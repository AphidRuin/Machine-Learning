{
 "cells": [
  {
   "cell_type": "code",
   "execution_count": 34,
   "metadata": {},
   "outputs": [],
   "source": [
    "import pandas as pd\n",
    "import numpy as np\n",
    "import matplotlib.pyplot as plt\n",
    "\n",
    "import yfinance as yf\n",
    "\n",
    "from sklearn.preprocessing import MinMaxScaler\n",
    "from tensorflow.keras.models import Sequential\n",
    "from tensorflow.keras.layers import Dense, Dropout, LSTM"
   ]
  },
  {
   "cell_type": "code",
   "execution_count": 50,
   "metadata": {},
   "outputs": [
    {
     "data": {
      "text/plain": [
       "<Axes: xlabel='Date'>"
      ]
     },
     "execution_count": 50,
     "metadata": {},
     "output_type": "execute_result"
    },
    {
     "data": {
      "image/png": "[encoded data removed]",
      "text/plain": [
       "<Figure size 432x288 with 1 Axes>"
      ]
     },
     "metadata": {
      "needs_background": "light"
     },
     "output_type": "display_data"
    }
   ],
   "source": [
    "company = \"AAPL\"\n",
    "stock = yf.Ticker(company)\n",
    "stock = stock.history(period=\"max\")\n",
    "del stock[\"Dividends\"]\n",
    "del stock[\"Stock Splits\"]\n",
    "\n",
    "stock.plot.line(y=\"Close\", use_index=True)"
   ]
  },
  {
   "cell_type": "code",
   "execution_count": 37,
   "metadata": {},
   "outputs": [
    {
     "data": {
      "text/html": [
       "<div>\n",
       "<style scoped>\n",
       "    .dataframe tbody tr th:only-of-type {\n",
       "        vertical-align: middle;\n",
       "    }\n",
       "\n",
       "    .dataframe tbody tr th {\n",
       "        vertical-align: top;\n",
       "    }\n",
       "\n",
       "    .dataframe thead th {\n",
       "        text-align: right;\n",
       "    }\n",
       "</style>\n",
       "<table border=\"1\" class=\"dataframe\">\n",
       "  <thead>\n",
       "    <tr style=\"text-align: right;\">\n",
       "      <th></th>\n",
       "      <th>Open</th>\n",
       "      <th>High</th>\n",
       "      <th>Low</th>\n",
       "      <th>Close</th>\n",
       "      <th>Volume</th>\n",
       "    </tr>\n",
       "    <tr>\n",
       "      <th>Date</th>\n",
       "      <th></th>\n",
       "      <th></th>\n",
       "      <th></th>\n",
       "      <th></th>\n",
       "      <th></th>\n",
       "    </tr>\n",
       "  </thead>\n",
       "  <tbody>\n",
       "    <tr>\n",
       "      <th>2012-01-03 00:00:00-05:00</th>\n",
       "      <td>12.378493</td>\n",
       "      <td>12.472223</td>\n",
       "      <td>12.366398</td>\n",
       "      <td>12.433824</td>\n",
       "      <td>302220800</td>\n",
       "    </tr>\n",
       "    <tr>\n",
       "      <th>2012-01-04 00:00:00-05:00</th>\n",
       "      <td>12.396634</td>\n",
       "      <td>12.538138</td>\n",
       "      <td>12.374865</td>\n",
       "      <td>12.500645</td>\n",
       "      <td>260022000</td>\n",
       "    </tr>\n",
       "    <tr>\n",
       "      <th>2012-01-05 00:00:00-05:00</th>\n",
       "      <td>12.546305</td>\n",
       "      <td>12.655153</td>\n",
       "      <td>12.477367</td>\n",
       "      <td>12.639431</td>\n",
       "      <td>271269600</td>\n",
       "    </tr>\n",
       "    <tr>\n",
       "      <th>2012-01-06 00:00:00-05:00</th>\n",
       "      <td>12.692039</td>\n",
       "      <td>12.782141</td>\n",
       "      <td>12.675409</td>\n",
       "      <td>12.771559</td>\n",
       "      <td>318292800</td>\n",
       "    </tr>\n",
       "    <tr>\n",
       "      <th>2012-01-09 00:00:00-05:00</th>\n",
       "      <td>12.865291</td>\n",
       "      <td>12.933321</td>\n",
       "      <td>12.739812</td>\n",
       "      <td>12.751302</td>\n",
       "      <td>394024400</td>\n",
       "    </tr>\n",
       "    <tr>\n",
       "      <th>...</th>\n",
       "      <td>...</td>\n",
       "      <td>...</td>\n",
       "      <td>...</td>\n",
       "      <td>...</td>\n",
       "      <td>...</td>\n",
       "    </tr>\n",
       "    <tr>\n",
       "      <th>2020-12-24 00:00:00-05:00</th>\n",
       "      <td>128.876596</td>\n",
       "      <td>130.976777</td>\n",
       "      <td>128.660688</td>\n",
       "      <td>129.514496</td>\n",
       "      <td>54930100</td>\n",
       "    </tr>\n",
       "    <tr>\n",
       "      <th>2020-12-28 00:00:00-05:00</th>\n",
       "      <td>131.496878</td>\n",
       "      <td>134.784537</td>\n",
       "      <td>131.025799</td>\n",
       "      <td>134.146637</td>\n",
       "      <td>124486200</td>\n",
       "    </tr>\n",
       "    <tr>\n",
       "      <th>2020-12-29 00:00:00-05:00</th>\n",
       "      <td>135.481327</td>\n",
       "      <td>136.207548</td>\n",
       "      <td>131.840352</td>\n",
       "      <td>132.360489</td>\n",
       "      <td>121047300</td>\n",
       "    </tr>\n",
       "    <tr>\n",
       "      <th>2020-12-30 00:00:00-05:00</th>\n",
       "      <td>133.057280</td>\n",
       "      <td>133.459654</td>\n",
       "      <td>130.917835</td>\n",
       "      <td>131.231888</td>\n",
       "      <td>96452100</td>\n",
       "    </tr>\n",
       "    <tr>\n",
       "      <th>2020-12-31 00:00:00-05:00</th>\n",
       "      <td>131.585205</td>\n",
       "      <td>132.232928</td>\n",
       "      <td>129.269117</td>\n",
       "      <td>130.221069</td>\n",
       "      <td>99116600</td>\n",
       "    </tr>\n",
       "  </tbody>\n",
       "</table>\n",
       "<p>2265 rows × 5 columns</p>\n",
       "</div>"
      ],
      "text/plain": [
       "                                 Open        High         Low       Close  \\\n",
       "Date                                                                        \n",
       "2012-01-03 00:00:00-05:00   12.378493   12.472223   12.366398   12.433824   \n",
       "2012-01-04 00:00:00-05:00   12.396634   12.538138   12.374865   12.500645   \n",
       "2012-01-05 00:00:00-05:00   12.546305   12.655153   12.477367   12.639431   \n",
       "2012-01-06 00:00:00-05:00   12.692039   12.782141   12.675409   12.771559   \n",
       "2012-01-09 00:00:00-05:00   12.865291   12.933321   12.739812   12.751302   \n",
       "...                               ...         ...         ...         ...   \n",
       "2020-12-24 00:00:00-05:00  128.876596  130.976777  128.660688  129.514496   \n",
       "2020-12-28 00:00:00-05:00  131.496878  134.784537  131.025799  134.146637   \n",
       "2020-12-29 00:00:00-05:00  135.481327  136.207548  131.840352  132.360489   \n",
       "2020-12-30 00:00:00-05:00  133.057280  133.459654  130.917835  131.231888   \n",
       "2020-12-31 00:00:00-05:00  131.585205  132.232928  129.269117  130.221069   \n",
       "\n",
       "                              Volume  \n",
       "Date                                  \n",
       "2012-01-03 00:00:00-05:00  302220800  \n",
       "2012-01-04 00:00:00-05:00  260022000  \n",
       "2012-01-05 00:00:00-05:00  271269600  \n",
       "2012-01-06 00:00:00-05:00  318292800  \n",
       "2012-01-09 00:00:00-05:00  394024400  \n",
       "...                              ...  \n",
       "2020-12-24 00:00:00-05:00   54930100  \n",
       "2020-12-28 00:00:00-05:00  124486200  \n",
       "2020-12-29 00:00:00-05:00  121047300  \n",
       "2020-12-30 00:00:00-05:00   96452100  \n",
       "2020-12-31 00:00:00-05:00   99116600  \n",
       "\n",
       "[2265 rows x 5 columns]"
      ]
     },
     "execution_count": 37,
     "metadata": {},
     "output_type": "execute_result"
    }
   ],
   "source": [
    "data = stock.loc[\"2012-01-01\":\"2020-12-31\"].copy()\n",
    "data"
   ]
  },
  {
   "cell_type": "code",
   "execution_count": 38,
   "metadata": {},
   "outputs": [],
   "source": [
    "scaler = MinMaxScaler(feature_range=(0,1))\n",
    "scaled_data = scaler.fit_transform(data['Close'].values.reshape(-1,1))"
   ]
  },
  {
   "cell_type": "code",
   "execution_count": 39,
   "metadata": {},
   "outputs": [],
   "source": [
    "prediction_days = 30\n",
    "\n",
    "x_train = []\n",
    "y_train = []\n",
    "\n",
    "for x in range(prediction_days, len(scaled_data)):\n",
    "    x_train.append(scaled_data[x-prediction_days: x, 0])\n",
    "    y_train.append(scaled_data[x, 0])\n"
   ]
  },
  {
   "cell_type": "code",
   "execution_count": 40,
   "metadata": {},
   "outputs": [],
   "source": [
    "x_train, y_train = np.array(x_train), np.array(y_train)\n",
    "x_train = np.reshape(x_train, (x_train.shape[0], x_train.shape[1], 1))"
   ]
  },
  {
   "cell_type": "code",
   "execution_count": 41,
   "metadata": {},
   "outputs": [
    {
     "name": "stdout",
     "output_type": "stream",
     "text": [
      "Epoch 1/25\n",
      "75/75 [==============================] - 5s 13ms/step - loss: 0.0084\n",
      "Epoch 2/25\n",
      "75/75 [==============================] - 1s 13ms/step - loss: 0.0029\n",
      "Epoch 3/25\n",
      "75/75 [==============================] - 1s 12ms/step - loss: 0.0023\n",
      "Epoch 4/25\n",
      "75/75 [==============================] - 1s 13ms/step - loss: 0.0022\n",
      "Epoch 5/25\n",
      "75/75 [==============================] - 1s 12ms/step - loss: 0.0020\n",
      "Epoch 6/25\n",
      "75/75 [==============================] - 1s 13ms/step - loss: 0.0018\n",
      "Epoch 7/25\n",
      "75/75 [==============================] - 1s 13ms/step - loss: 0.0017\n",
      "Epoch 8/25\n",
      "75/75 [==============================] - 1s 13ms/step - loss: 0.0015\n",
      "Epoch 9/25\n",
      "75/75 [==============================] - 1s 13ms/step - loss: 0.0018\n",
      "Epoch 10/25\n",
      "75/75 [==============================] - 1s 13ms/step - loss: 0.0012\n",
      "Epoch 11/25\n",
      "75/75 [==============================] - 1s 13ms/step - loss: 0.0015\n",
      "Epoch 12/25\n",
      "75/75 [==============================] - 1s 13ms/step - loss: 0.0014\n",
      "Epoch 13/25\n",
      "75/75 [==============================] - 1s 13ms/step - loss: 0.0014\n",
      "Epoch 14/25\n",
      "75/75 [==============================] - 1s 13ms/step - loss: 0.0011\n",
      "Epoch 15/25\n",
      "75/75 [==============================] - 1s 13ms/step - loss: 0.0011\n",
      "Epoch 16/25\n",
      "75/75 [==============================] - 1s 13ms/step - loss: 0.0013\n",
      "Epoch 17/25\n",
      "75/75 [==============================] - 1s 12ms/step - loss: 0.0012\n",
      "Epoch 18/25\n",
      "75/75 [==============================] - 1s 12ms/step - loss: 0.0012\n",
      "Epoch 19/25\n",
      "75/75 [==============================] - 1s 12ms/step - loss: 9.2413e-04\n",
      "Epoch 20/25\n",
      "75/75 [==============================] - 1s 12ms/step - loss: 0.0011\n",
      "Epoch 21/25\n",
      "75/75 [==============================] - 1s 13ms/step - loss: 0.0012\n",
      "Epoch 22/25\n",
      "75/75 [==============================] - 1s 13ms/step - loss: 8.7863e-04\n",
      "Epoch 23/25\n",
      "75/75 [==============================] - 1s 12ms/step - loss: 9.7902e-04\n",
      "Epoch 24/25\n",
      "75/75 [==============================] - 1s 12ms/step - loss: 9.3860e-04\n",
      "Epoch 25/25\n",
      "75/75 [==============================] - 1s 13ms/step - loss: 8.8353e-04\n"
     ]
    },
    {
     "data": {
      "text/plain": [
       "<keras.callbacks.History at 0x1f681a86af0>"
      ]
     },
     "execution_count": 41,
     "metadata": {},
     "output_type": "execute_result"
    }
   ],
   "source": [
    "model = Sequential()\n",
    "\n",
    "model.add(LSTM(units=20, return_sequences=True, input_shape=(x_train.shape[1], 1)))\n",
    "model.add(Dropout(0.2))\n",
    "model.add(LSTM(units=20, return_sequences=True))\n",
    "model.add(Dropout(0.2))\n",
    "model.add(LSTM(units=20))\n",
    "model.add(Dropout(0.2))\n",
    "\n",
    "model.add(Dense(units=1))\n",
    "\n",
    "model.compile(optimizer='adam', loss='mean_squared_error')\n",
    "model.fit(x_train, y_train, epochs=25, batch_size=30)"
   ]
  },
  {
   "cell_type": "code",
   "execution_count": 45,
   "metadata": {},
   "outputs": [],
   "source": [
    "test = stock.loc[\"2021-1-1\":].copy()\n",
    "actual_prices = test['Close'].values\n",
    "total_dataset = pd.concat((data['Close'], test['Close']), axis=0)"
   ]
  },
  {
   "cell_type": "code",
   "execution_count": 46,
   "metadata": {},
   "outputs": [],
   "source": [
    "model_inputs = total_dataset[len(total_dataset) - len(test) - prediction_days:]\n",
    "scaled_inputs = scaler.fit_transform(model_inputs.values.reshape(-1,1))"
   ]
  },
  {
   "cell_type": "code",
   "execution_count": 47,
   "metadata": {},
   "outputs": [
    {
     "name": "stdout",
     "output_type": "stream",
     "text": [
      "26/26 [==============================] - 0s 5ms/step\n"
     ]
    }
   ],
   "source": [
    "x_test = []\n",
    "\n",
    "for x in range(prediction_days, len(scaled_inputs)):\n",
    "    x_test.append(scaled_inputs[x-prediction_days:x, 0])\n",
    "\n",
    "x_test = np.array(x_test)\n",
    "x_test = np.reshape(x_test, (x_test.shape[0], x_test.shape[1], 1))\n",
    "\n",
    "predicted_prices = model.predict(x_test)\n",
    "predicted_prices = scaler.inverse_transform(predicted_prices)"
   ]
  },
  {
   "cell_type": "code",
   "execution_count": 51,
   "metadata": {},
   "outputs": [
    {
     "data": {
      "image/png": "[encoded data removed]",
      "text/plain": [
       "<Figure size 432x288 with 1 Axes>"
      ]
     },
     "metadata": {
      "needs_background": "light"
     },
     "output_type": "display_data"
    }
   ],
   "source": [
    "plt.plot(actual_prices, color='black', label=f'Actual {company} Price')\n",
    "plt.plot(predicted_prices, color='green', label=f'Predicted {company} Price')\n",
    "plt.title(f\"{company} Share Price\")\n",
    "plt.xlabel(\"Time\")\n",
    "plt.ylabel(f\"{company} Share Price\")\n",
    "plt.legend()\n",
    "plt.show()"
   ]
  },
  {
   "cell_type": "code",
   "execution_count": 52,
   "metadata": {},
   "outputs": [
    {
     "name": "stdout",
     "output_type": "stream",
     "text": [
      "1/1 [==============================] - 0s 24ms/step\n",
      "Prediction: [[170.13011]]\n"
     ]
    }
   ],
   "source": [
    "# Predict next day share price\n",
    "\n",
    "real_data = [scaled_inputs[len(scaled_inputs) + 1 - prediction_days:len(scaled_inputs+1), 0]]\n",
    "real_data = np.array(real_data)\n",
    "real_data = np.reshape(real_data, (real_data.shape[0], real_data.shape[1], 1))\n",
    "\n",
    "prediction = model.predict(real_data)\n",
    "prediction = scaler.inverse_transform(prediction)\n",
    "print(f\"Prediction: {prediction}\")"
   ]
  },
  {
   "cell_type": "code",
   "execution_count": null,
   "metadata": {},
   "outputs": [],
   "source": []
  }
 ],
 "metadata": {
  "kernelspec": {
   "display_name": "Python 3",
   "language": "python",
   "name": "python3"
  },
  "language_info": {
   "codemirror_mode": {
    "name": "ipython",
    "version": 3
   },
   "file_extension": ".py",
   "mimetype": "text/x-python",
   "name": "python",
   "nbconvert_exporter": "python",
   "pygments_lexer": "ipython3",
   "version": "3.8.5"
  }
 },
 "nbformat": 4,
 "nbformat_minor": 4
}
